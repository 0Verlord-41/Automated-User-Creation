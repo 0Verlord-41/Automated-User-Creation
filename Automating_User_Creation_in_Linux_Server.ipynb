{
  "nbformat": 4,
  "nbformat_minor": 0,
  "metadata": {
    "colab": {
      "provenance": []
    },
    "kernelspec": {
      "name": "python3",
      "display_name": "Python 3"
    },
    "language_info": {
      "name": "python"
    }
  },
  "cells": [
    {
      "cell_type": "markdown",
      "source": [
        "## Coursera: Crash Course on Python\n",
        "### Module 5\n",
        "\n",
        "Scenario: Every month, you are handed a spreadsheet with hundreds of new hires. You are asked to create user accounts for all of them on a Linux server."
      ],
      "metadata": {
        "id": "mLwDzE70QrLw"
      }
    },
    {
      "cell_type": "code",
      "execution_count": null,
      "metadata": {
        "id": "ew3C3_s5Eyqf"
      },
      "outputs": [],
      "source": [
        "import csv\n",
        "import secrets\n",
        "import subprocess\n",
        "from pathlib import Path   # to locate the data files"
      ]
    },
    {
      "cell_type": "code",
      "source": [
        "cwd = Path.cwd()"
      ],
      "metadata": {
        "id": "kdAlwNHrFVCl"
      },
      "execution_count": null,
      "outputs": []
    },
    {
      "cell_type": "code",
      "source": [
        "with open(cwd / \"data/user_in.csv\", \"r\") as file_input, open(cwd / \"data/user_out.csv\", \"w\") as file_output:\n",
        "  reader=csv.DictReader(file_input)\n",
        "  writer = csv.DictWriter(file_output,fieldnames=reader.fieldnames)\n",
        "  writer.writeheader()\n",
        "\n",
        "  for user in reader:\n",
        "    user[\"password\"] = secrets.token_hex(8)\n",
        "    useradd_cmd = [\"/sbin/useradd\",\n",
        "                 \"-c\", user[\"real_name\"],\n",
        "                 \"-m\",\n",
        "                 \"-G\", \"users\",\n",
        "                 \"-p\", user[\"password\"],\n",
        "                 user[\"username\"]]\n",
        "    subprocess.run(useradd_cmd, check=True)\n",
        "    writer.writerow(user)"
      ],
      "metadata": {
        "id": "wfFnAAxjHgmT"
      },
      "execution_count": null,
      "outputs": []
    },
    {
      "cell_type": "code",
      "source": [
        "# output_path = cwd / \"data\"\n",
        "# for item in Path.iterdir(output_path):\n",
        "#     print(item.name)"
      ],
      "metadata": {
        "colab": {
          "base_uri": "https://localhost:8080/"
        },
        "id": "pOlptz-DMzNO",
        "outputId": "cbca26ae-8f7a-4f03-94e6-a066ee6fa0fb"
      },
      "execution_count": null,
      "outputs": [
        {
          "output_type": "stream",
          "name": "stdout",
          "text": [
            "user_in.csv\n",
            "user_out.csv\n"
          ]
        }
      ]
    },
    {
      "cell_type": "code",
      "source": [
        "# empty block\n",
        "pass"
      ],
      "metadata": {
        "id": "afFjPNALNhlO"
      },
      "execution_count": null,
      "outputs": []
    },
    {
      "cell_type": "markdown",
      "source": [
        "**Conclusion**\n",
        "\n",
        "The process always remains the same —\n",
        "*   identifying a problem\n",
        "*   coming up with a solution\n",
        "*   determining the tools\n",
        "*   writing the actual script!"
      ],
      "metadata": {
        "id": "32ley87ePv1w"
      }
    }
  ]
}